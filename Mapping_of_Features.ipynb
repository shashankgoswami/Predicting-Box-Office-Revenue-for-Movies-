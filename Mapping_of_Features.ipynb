{
 "cells": [
  {
   "cell_type": "code",
   "execution_count": 69,
   "metadata": {},
   "outputs": [],
   "source": [
    "import pandas as pd\n",
    "import re\n",
    "import nltk\n",
    "from nltk import word_tokenize\n",
    "from collections import Counter\n",
    "from vaderSentiment.vaderSentiment import SentimentIntensityAnalyzer\n",
    "import random\n",
    "from random import randint\n",
    "from nltk.corpus import stopwords \n",
    "from nltk.tokenize import word_tokenize"
   ]
  },
  {
   "cell_type": "code",
   "execution_count": 70,
   "metadata": {},
   "outputs": [],
   "source": [
    "# Loading the Data\n",
    "Hotels = pd.ExcelFile(\"C:/Users/shash/Scraping/DataFrame/Final.xlsx\")\n",
    "Hotels_List = Hotels.sheet_names"
   ]
  },
  {
   "cell_type": "code",
   "execution_count": 71,
   "metadata": {},
   "outputs": [
    {
     "name": "stdout",
     "output_type": "stream",
     "text": [
      "['room', 'clean', 'in/check', 'aircon', 'unit', 'hall', 'work', 'noisy', 'heat', 'bedroom', 'door', 'apartment', 'style', 'room', 'hall', 'bedroom', 'door', 'weather', 'cold', 'imagine', 'heat', 'room', 'summer', 'lobby', 'interesting', 'game', 'room', 'area', 'wood', 'chat', 'restaurant', 'ground', 'floor', 'hotel', 'hotel', 'door', 'conference', 'room', 'shower', 'stall', 'bathroom', 'floor', 'elevator', 'floor', 'office', 'building', 'room', 'work', 'room', 'return', 'day', 'hotel', 'hotel', 'trip', 'visit', 'area', 'walk', 'train', 'station', 'mind', 'tiring', 'day', 'walk', 'get', 'room', 'level', 'ceiling', 'bed', 'size', 'use', 'half', 'glass', 'water', 'floor', 'shower', 'warehouse', 'floor', 'room', 'bar', 'lobby', 'beer', 'area', 'pier', 'bar', 'trailer', 'winter', 'hotel', 'stock', 'visit', 'area', 'hotel', 'convenient', 'location', 'station', 'accessibility', 'cafes', 'room', 'room', 'area', 'shower', 'room', 'didnt', 'control', 'doesnt', 'hotel', 'call', 'change', 'room', 'room', 'phone', 'didnt', 'work', 'repair', 'check', 'ground', 'floor', 'level', 'round', 'table', 'afternoon', 'tea', 'reservation', 'bar', 'stool', 'mushroom', 'fettucine', 'tea', 'afternoon', 'tea', 'king', 'room', 'person', 'shopping', 'family', 'member', 'room', 'cramped', 'table', 'bench', 'touch', 'space', 'part', 'wardrobe', 'space', 'table', 'bathroom', 'day', 'shopping', 'walk', 'cafes', 'size', 'room', 'floor', 'way', 'room', 'reception', 'check', 'in/check', 'gripe', 'airconditioning', 'way', 'temperature', 'mood', 'temperature', 'front', 'entrance', 'shopping', 'access', 'cafes', 'supermarket', 'walk', 'subway', 'hotel', 'acessibility', 'humidifier', 'room', 'buffet', 'breakfast', 'spread', 'night', 'onsen', 'impression', 'area', 'food', 'dinner', 'breakfast', 'breathtaking', 'service', 'bath', 'pool', 'floor', 'area', 'morning', 'bathe', 'bath', 'level', 'gorge', 'walk', 'gorge', 'town', 'evening', 'pearl', 'powder', 'bath', 'skin', 'soak', 'lake', 'furnishing', 'isnt', 'room', 'room', 'quiet', 'spread', 'service', 'attentive', 'hotel', 'subway', 'walk', 'convenient', 'subway', 'way', 'airport', 'morning', 'hour', 'way', 'cab', 'pool', 'lifeguard', 'fancy', 'swim', 'walk', 'hotel', 'pitstop', 'lobby', 'service', 'attentive', 'room', 'bathroom', 'floor', 'get', 'soak', 'day', 'shopping', 'spa', 'table', 'room', 'comfy', 'sofa', 'tv', 'wardrobe', 'housekeeping', 'location', 'convenient', 'walk', 'trams', 'room', 'bed', 'size', 'bathtub/shower', 'curtain/shower', 'combo', 'destination', 'fee', 'night', 'card', 'water', 'list', 'night', 'landing', 'airport', 'evening', 'hotel', 'shuttle', 'hall', 'end', 'terminal', 'wait', 'hotel', 'burger', 'place', 'hotel', 'door', 'shower', 'bed', 'room', 'size', 'area', 'glass', 'stall', 'water', 'shuttle', 'airport', 'convenient', 'conference', 'choice', 'water', 'floor', 'room', 'conference', 'day', 'shower', 'change', 'room', 'hotel', 'pack/unpack', 'airconditioning', 'night', 'issue', 'set', 'design', 'concept', 'get', 'look', 'lobby', 'insist', 'noisy', 'lobby', 'chatter', 'inconsistent', 'year', 'conference', 'hotel', 'water', 'conference', 'week', 'size', 'balcony', 'studio', 'room', 'party', 'room', 'living', 'room', 'pantry', 'hotel', 'room', 'business', 'business', 'district', 'quarter', 'cab', 'car', 'front', 'desk', 'staff', 'style', 'bar', 'pool', 'promotion', 'issue', 'room', 'evening', 'hotel', 'everyone', 'night', 'day', 'wifi', 'plan', 'nothing', 'office', 'area', 'plenty', 'shopping', 'hotel', 'bathroom', 'buffet', 'spread', 'selection', 'tourist', 'place', 'lobby', 'serve', 'tea', 'coffee', 'pastry/cake', 'basement', 'bell', 'staff', 'duty', 'check', 'check', 'luggage', 'standard', 'ole', 'dame', 'conference', 'resort', 'conference', 'resort', 'room', 'living', 'room', 'modernization', 'front', 'desk', 'suite', 'suite', 'bedroom', 'room', 'area', 'balcony', 'pool', 'beach', 'pool', 'area', 'lit', 'night', 'staff', 'time', 'sleep', 'resort', 'issue', 'night', 'conference', 'party', 'area', 'loud', 'band', 'resort', 'rest', 'singing', 'evening', 'night', 'music', 'tune', 'noise', 'peace', 'issue', 'night', 'conference', 'party', 'area', 'loud', 'band', 'resort', 'rest', 'singing', 'evening', 'night', 'music', 'tune', 'noise', 'peace', 'hotel', 'bedroom/bathroom', 'shower', 'work', 'desk', 'wifi', 'mall', 'business', 'holiday']\n"
     ]
    }
   ],
   "source": [
    "# Finding Nouns used by Customer\n",
    "cust_review = pd.read_excel(\"./DataFrame/TravelBug0082.xlsx\",sheet_name = 'Sheet1').iloc[0,0]\n",
    "\n",
    "\n",
    "# Removing Stopwords\n",
    "stop_words = set(stopwords.words('english')) \n",
    "x = word_tokenize(cust_review) \n",
    "x = [w for w in x if not w in stop_words]\n",
    "\n",
    "\n",
    "\n",
    "y = nltk.pos_tag(x)\n",
    "\n",
    "m = []\n",
    "for i in range(len(y)):\n",
    "    if y[i][1] == \"NN\":\n",
    "        m.append(y[i][0])  \n",
    "    else:\n",
    "        pass\n",
    "    \n",
    "m.remove('”')\n",
    "print(m)"
   ]
  },
  {
   "cell_type": "code",
   "execution_count": 72,
   "metadata": {},
   "outputs": [],
   "source": [
    "# Extracting Score of each noun used by customer for every hotel\n",
    "p = []\n",
    "for i in range(len(Hotels_List)):\n",
    "    l = []\n",
    "    for j in range(len(m)):\n",
    "        if m[j] in Hotels.parse(i)[\"Noun\"].to_list():\n",
    "            x = Hotels.parse(i).index[Hotels.parse(i)[\"Noun\"] == m[j]].to_list()[0]\n",
    "            l.append(Hotels.parse(0).loc[x,\"Compound\"])\n",
    "        else:\n",
    "            l.append(0)\n",
    "    p.append(l)\n"
   ]
  },
  {
   "cell_type": "code",
   "execution_count": 73,
   "metadata": {},
   "outputs": [],
   "source": [
    "# Making a Dataframe\n",
    "d = {}\n",
    "for i in range(len(Hotels_List)):\n",
    "    d.update({Hotels_List[i]:p[i]})\n",
    "X = pd.DataFrame(d,index = m)\n",
    "\n",
    "# Rolling upto Unique words\n",
    "X = X.groupby(X.index).sum()"
   ]
  },
  {
   "cell_type": "code",
   "execution_count": 75,
   "metadata": {},
   "outputs": [
    {
     "data": {
      "text/html": [
       "<div>\n",
       "<style scoped>\n",
       "    .dataframe tbody tr th:only-of-type {\n",
       "        vertical-align: middle;\n",
       "    }\n",
       "\n",
       "    .dataframe tbody tr th {\n",
       "        vertical-align: top;\n",
       "    }\n",
       "\n",
       "    .dataframe thead th {\n",
       "        text-align: right;\n",
       "    }\n",
       "</style>\n",
       "<table border=\"1\" class=\"dataframe\">\n",
       "  <thead>\n",
       "    <tr style=\"text-align: right;\">\n",
       "      <th></th>\n",
       "      <th>Score</th>\n",
       "    </tr>\n",
       "  </thead>\n",
       "  <tbody>\n",
       "    <tr>\n",
       "      <th>Ramada Plaza by Wyndham Waikiki</th>\n",
       "      <td>100.000000</td>\n",
       "    </tr>\n",
       "    <tr>\n",
       "      <th>Aqua Pacific Monarch</th>\n",
       "      <td>99.630602</td>\n",
       "    </tr>\n",
       "    <tr>\n",
       "      <th>OHANA Waikiki Malia Outrigger</th>\n",
       "      <td>76.210716</td>\n",
       "    </tr>\n",
       "    <tr>\n",
       "      <th>Sheraton Princess Hotel</th>\n",
       "      <td>56.826213</td>\n",
       "    </tr>\n",
       "    <tr>\n",
       "      <th>Coconut Waikiki Hotel</th>\n",
       "      <td>53.611913</td>\n",
       "    </tr>\n",
       "    <tr>\n",
       "      <th>Aston Islander on the Beach</th>\n",
       "      <td>53.063778</td>\n",
       "    </tr>\n",
       "    <tr>\n",
       "      <th>Otani Hotel</th>\n",
       "      <td>32.678532</td>\n",
       "    </tr>\n",
       "    <tr>\n",
       "      <th>La_Croix</th>\n",
       "      <td>0.000000</td>\n",
       "    </tr>\n",
       "  </tbody>\n",
       "</table>\n",
       "</div>"
      ],
      "text/plain": [
       "                                      Score\n",
       "Ramada Plaza by Wyndham Waikiki  100.000000\n",
       "Aqua Pacific Monarch              99.630602\n",
       "OHANA Waikiki Malia Outrigger     76.210716\n",
       "Sheraton Princess Hotel           56.826213\n",
       "Coconut Waikiki Hotel             53.611913\n",
       "Aston Islander on the Beach       53.063778\n",
       "Otani Hotel                       32.678532\n",
       "La_Croix                           0.000000"
      ]
     },
     "execution_count": 75,
     "metadata": {},
     "output_type": "execute_result"
    }
   ],
   "source": [
    "# Ranking and Recommending the Hotel\n",
    "Scores_sum = X.sum()\n",
    "Ranking = pd.DataFrame(Scores_sum.sort_values(ascending = False), columns= [\"Score\"])\n",
    "\n",
    "# Applying Min-Max Scaling\n",
    "Max = Ranking['Score'].max(axis = 0)\n",
    "Min = Ranking['Score'].min(axis = 0)\n",
    "Ranking['Score'] = Ranking['Score'].apply(lambda x:(x - Min)/(Max - Min)*100)\n",
    "Ranking"
   ]
  }
 ],
 "metadata": {
  "kernelspec": {
   "display_name": "Python 3",
   "language": "python",
   "name": "python3"
  },
  "language_info": {
   "codemirror_mode": {
    "name": "ipython",
    "version": 3
   },
   "file_extension": ".py",
   "mimetype": "text/x-python",
   "name": "python",
   "nbconvert_exporter": "python",
   "pygments_lexer": "ipython3",
   "version": "3.7.4"
  }
 },
 "nbformat": 4,
 "nbformat_minor": 2
}
